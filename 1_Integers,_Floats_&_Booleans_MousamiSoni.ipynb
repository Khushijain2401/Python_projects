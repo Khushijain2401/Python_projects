{
 "cells": [
  {
   "cell_type": "markdown",
   "metadata": {
    "id": "UhmgnA67JbOo"
   },
   "source": [
    "# In Python these Data types are most widely used\n",
    "* ### <u>Numeric Data Type</u>  - Numeric variables take values which are numbers like 10, 10.15,5+ 3j, 0, Inf. These includes Integer, Float and Complex numbers.\n",
    "\n",
    "\n",
    "* ### <u>String </u>  - Strings are used in Python to store text informations.\n",
    "\n",
    "\n",
    "* ### <u>Boolean</u>  - Boolean data types gives only True or False. There can only be two outputs possible.\n",
    "\n",
    "* ### <u>Datetime </u> - These variables are used to store date and time values such as 2022-09-06 12:23:54"
   ]
  },
  {
   "cell_type": "markdown",
   "metadata": {
    "id": "I9Fwf5ooJbOq"
   },
   "source": [
    "# <u> Writing Integers and Floats </u>"
   ]
  },
  {
   "cell_type": "markdown",
   "metadata": {
    "id": "Mfy5IszoJbOr"
   },
   "source": [
    "## Performing Basic Arithmatic of Numerical Data Types "
   ]
  },
  {
   "cell_type": "code",
   "execution_count": 2,
   "metadata": {
    "colab": {
     "base_uri": "https://localhost:8080/"
    },
    "id": "sn4BtpEIJbOr",
    "outputId": "bf476f20-b954-453d-8caf-4c43c4da46aa"
   },
   "outputs": [
    {
     "data": {
      "text/plain": [
       "19"
      ]
     },
     "execution_count": 2,
     "metadata": {},
     "output_type": "execute_result"
    }
   ],
   "source": [
    "# Addition\n",
    "#5+1\n",
    "10+9"
   ]
  },
  {
   "cell_type": "code",
   "execution_count": 6,
   "metadata": {},
   "outputs": [
    {
     "data": {
      "text/plain": [
       "10"
      ]
     },
     "execution_count": 6,
     "metadata": {},
     "output_type": "execute_result"
    }
   ],
   "source": [
    "#he 5 ani 5 add karat aahe\n",
    "5+5"
   ]
  },
  {
   "cell_type": "code",
   "execution_count": 7,
   "metadata": {
    "colab": {
     "base_uri": "https://localhost:8080/"
    },
    "id": "oQYLI1w4JbOx",
    "outputId": "2ea52d53-22ba-41ae-d5c9-f0bb1549fbb1"
   },
   "outputs": [
    {
     "data": {
      "text/plain": [
       "-6"
      ]
     },
     "execution_count": 7,
     "metadata": {},
     "output_type": "execute_result"
    }
   ],
   "source": [
    "# Subtraction\n",
    "#10-5\n",
    "2-8"
   ]
  },
  {
   "cell_type": "code",
   "execution_count": 8,
   "metadata": {
    "colab": {
     "base_uri": "https://localhost:8080/"
    },
    "id": "ZRun8NmAJbO0",
    "outputId": "87de0c37-24dc-41ea-d149-b98d9c07170e"
   },
   "outputs": [
    {
     "data": {
      "text/plain": [
       "6"
      ]
     },
     "execution_count": 8,
     "metadata": {},
     "output_type": "execute_result"
    }
   ],
   "source": [
    "# Multiplication\n",
    "3*2"
   ]
  },
  {
   "cell_type": "code",
   "execution_count": 9,
   "metadata": {
    "colab": {
     "base_uri": "https://localhost:8080/"
    },
    "id": "etEpKlXqJbO2",
    "outputId": "80282ecd-2d98-497a-9da5-6c9a2c05e794"
   },
   "outputs": [
    {
     "data": {
      "text/plain": [
       "3.5"
      ]
     },
     "execution_count": 9,
     "metadata": {},
     "output_type": "execute_result"
    }
   ],
   "source": [
    "# Division\n",
    "7/2 "
   ]
  },
  {
   "cell_type": "code",
   "execution_count": 12,
   "metadata": {
    "colab": {
     "base_uri": "https://localhost:8080/"
    },
    "id": "_6rPJxI6JbO5",
    "outputId": "06192911-101f-4e9d-e3f9-8041684c9e0b"
   },
   "outputs": [
    {
     "data": {
      "text/plain": [
       "2"
      ]
     },
     "execution_count": 12,
     "metadata": {},
     "output_type": "execute_result"
    }
   ],
   "source": [
    "# Floor Division\n",
    "5//2"
   ]
  },
  {
   "cell_type": "code",
   "execution_count": 16,
   "metadata": {
    "colab": {
     "base_uri": "https://localhost:8080/"
    },
    "id": "-nwZ9QhfJbO8",
    "outputId": "4fdaf6da-4167-42ee-975c-d2976f956965"
   },
   "outputs": [
    {
     "data": {
      "text/plain": [
       "27"
      ]
     },
     "execution_count": 16,
     "metadata": {},
     "output_type": "execute_result"
    }
   ],
   "source": [
    "# Exponentiation\n",
    "#5**5\n",
    "3**3"
   ]
  },
  {
   "cell_type": "code",
   "execution_count": null,
   "metadata": {
    "colab": {
     "base_uri": "https://localhost:8080/"
    },
    "id": "JuBKbD6rJbO-",
    "outputId": "5980504e-81f4-42df-8954-6cc0cdefc56c"
   },
   "outputs": [
    {
     "data": {
      "text/plain": [
       "1"
      ]
     },
     "execution_count": 9,
     "metadata": {},
     "output_type": "execute_result"
    }
   ],
   "source": [
    "# Modulus\n",
    "7%2 # remainder"
   ]
  },
  {
   "cell_type": "code",
   "execution_count": 18,
   "metadata": {
    "colab": {
     "base_uri": "https://localhost:8080/"
    },
    "id": "GwB4UnlJJbPD",
    "outputId": "24e550e4-b0e2-4b83-c6d9-93be60580e2e"
   },
   "outputs": [
    {
     "data": {
      "text/plain": [
       "106"
      ]
     },
     "execution_count": 18,
     "metadata": {},
     "output_type": "execute_result"
    }
   ],
   "source": [
    "# Order of Operations followed in Python BODMAS rule.\n",
    "4 + 10 * 10 + 2"
   ]
  },
  {
   "cell_type": "code",
   "execution_count": 14,
   "metadata": {
    "colab": {
     "base_uri": "https://localhost:8080/"
    },
    "id": "tL0-wPcvJbPF",
    "outputId": "6384e029-a13b-4b94-a410-6125d16495b1"
   },
   "outputs": [
    {
     "data": {
      "text/plain": [
       "154"
      ]
     },
     "execution_count": 14,
     "metadata": {},
     "output_type": "execute_result"
    }
   ],
   "source": [
    "4+10*(10+5) #154 "
   ]
  },
  {
   "cell_type": "code",
   "execution_count": 20,
   "metadata": {
    "colab": {
     "base_uri": "https://localhost:8080/"
    },
    "id": "Zx1mkJYQJbPJ",
    "outputId": "8c023c48-3015-4db1-ae4b-e9626f926890"
   },
   "outputs": [
    {
     "data": {
      "text/plain": [
       "10000.0"
      ]
     },
     "execution_count": 20,
     "metadata": {},
     "output_type": "execute_result"
    }
   ],
   "source": [
    "# When representing large numbers Scientific Notationisas follows10^7\n",
    "1E4  # ^ operator,.. ha kai karto"
   ]
  },
  {
   "cell_type": "markdown",
   "metadata": {
    "id": "SAG3VykOJbPM"
   },
   "source": [
    "## Writing about numbers!\n",
    "\n",
    "* There are many different types of numbers are used in Python such as integers (int type), real numbers (float type), complex numbers. \n",
    "\n",
    "* Integers can be written as whole numbers, positive or negative. For example: 5 and -2 are examples of integers.\n",
    "\n",
    "\n",
    "* Floating point numbers in Python have a decimal point in them, or use an exponential (E) to define the number. For example 2.0 and -2.1 are examples of floating point numbers. 5E6 (5 times 10 to the power of 6) is also an example of a floating point number in Python.\n",
    "\n",
    "\n",
    "\n",
    "\n"
   ]
  },
  {
   "cell_type": "markdown",
   "metadata": {
    "id": "mdf-bQxnJbPN"
   },
   "source": [
    "### The table below summarises the two numeric data types, Integers and Floats:\n",
    "<table>\n",
    "<tr>\n",
    "    <th>Examples</th> \n",
    "    <th>Number \"Type\"</th>\n",
    "</tr>\n",
    "\n",
    "<tr>\n",
    "    <td>1,2,-5,1000</td>\n",
    "    <td>Integers</td> \n",
    "</tr>\n",
    "\n",
    "<tr>\n",
    "    <td>1.2,-0.5,2e2,3E2</td> \n",
    "    <td>Floating-point numbers</td> \n",
    "</tr>\n",
    " </table>"
   ]
  },
  {
   "cell_type": "markdown",
   "metadata": {
    "id": "rU046YbcJbPN"
   },
   "source": [
    "## <u> What is a Variable? <u/>"
   ]
  },
  {
   "cell_type": "markdown",
   "metadata": {
    "id": "gW5YEnarJbPO"
   },
   "source": [
    "###  VARIABLES are entities which help us store information and retrieve it later. \n",
    "\n",
    " * A variable with a fixed name can store information of nature like numeric, textual, boolean etc.\n",
    " \n",
    " * The type of data contained in a variable can be changed. "
   ]
  },
  {
   "cell_type": "code",
   "execution_count": 19,
   "metadata": {
    "id": "GMzBISF_JbPO"
   },
   "outputs": [],
   "source": [
    "# You can store numbers in variables.\n",
    "# The standard rule is you write the variable name followed by = sign and the value it will take\n",
    "\n",
    "x=5"
   ]
  },
  {
   "cell_type": "code",
   "execution_count": 23,
   "metadata": {
    "colab": {
     "base_uri": "https://localhost:8080/",
     "height": 34
    },
    "id": "sfHKamM3JbPR",
    "outputId": "c38a5251-0c6f-469d-c7dd-278c4fe778fe"
   },
   "outputs": [
    {
     "ename": "NameError",
     "evalue": "name 'X' is not defined",
     "output_type": "error",
     "traceback": [
      "\u001b[1;31m---------------------------------------------------------------------------\u001b[0m",
      "\u001b[1;31mNameError\u001b[0m                                 Traceback (most recent call last)",
      "Cell \u001b[1;32mIn[23], line 1\u001b[0m\n\u001b[1;32m----> 1\u001b[0m \u001b[43mX\u001b[49m\u001b[38;5;241m*\u001b[39m\u001b[38;5;241m2\u001b[39m\n",
      "\u001b[1;31mNameError\u001b[0m: name 'X' is not defined"
     ]
    }
   ],
   "source": []
  },
  {
   "cell_type": "code",
   "execution_count": 25,
   "metadata": {
    "colab": {
     "base_uri": "https://localhost:8080/"
    },
    "id": "UedV9GDlJbPU",
    "outputId": "baf78f48-5e80-4019-b9e7-388251d87c58"
   },
   "outputs": [
    {
     "data": {
      "text/plain": [
       "15"
      ]
     },
     "execution_count": 25,
     "metadata": {},
     "output_type": "execute_result"
    }
   ],
   "source": [
    "y=2 # bemaan\n",
    "y=5 # paila maan\n",
    "y*3 "
   ]
  },
  {
   "cell_type": "code",
   "execution_count": 26,
   "metadata": {
    "colab": {
     "base_uri": "https://localhost:8080/"
    },
    "id": "OcUpyTY2Z4Fn",
    "outputId": "563acfab-5f8b-4394-9402-01e0119592e0"
   },
   "outputs": [
    {
     "name": "stdout",
     "output_type": "stream",
     "text": [
      "5\n"
     ]
    }
   ],
   "source": [
    "print(y)"
   ]
  },
  {
   "cell_type": "markdown",
   "metadata": {
    "id": "1--OZJQAJbPW"
   },
   "source": [
    "### Basic Arithmetic operations we can do on x and y. Later we will be doing operations on thousands of such numbers in one go!"
   ]
  },
  {
   "cell_type": "code",
   "execution_count": 32,
   "metadata": {
    "colab": {
     "base_uri": "https://localhost:8080/"
    },
    "id": "BNWS99YXJbPX",
    "outputId": "4e8cce20-524c-4fb0-f53c-12fbc48e5d9f"
   },
   "outputs": [
    {
     "name": "stdout",
     "output_type": "stream",
     "text": [
      "Addition of x and y =  10.4\n"
     ]
    }
   ],
   "source": [
    "# Addition\n",
    "x=4\n",
    "y=6.4\n",
    "\n",
    "z = x+y\n",
    "\n",
    "print('Addition of x and y = ',z)"
   ]
  },
  {
   "cell_type": "code",
   "execution_count": 47,
   "metadata": {
    "id": "zusqZqZTJbPZ",
    "outputId": "8b842bc8-cda8-44dc-a030-f6f616f09666"
   },
   "outputs": [
    {
     "data": {
      "text/plain": [
       "tuple"
      ]
     },
     "execution_count": 47,
     "metadata": {},
     "output_type": "execute_result"
    }
   ],
   "source": [
    "type((2,2)) # Data type sangto\n"
   ]
  },
  {
   "cell_type": "markdown",
   "metadata": {
    "id": "eo0mqrbOJbPb"
   },
   "source": [
    "* ### Note: A variable can be assigned different values and data types and it will store the last value assigned"
   ]
  },
  {
   "cell_type": "code",
   "execution_count": 16,
   "metadata": {
    "colab": {
     "base_uri": "https://localhost:8080/",
     "height": 34
    },
    "id": "GNgNOpjIJbPc",
    "outputId": "2bacd1ac-746c-4c4d-c282-f151963f239a"
   },
   "outputs": [
    {
     "name": "stdout",
     "output_type": "stream",
     "text": [
      "-2.4000000000000004\n"
     ]
    }
   ],
   "source": [
    "# Subtraction\n",
    "z = x-y\n",
    "\n",
    "# Use the in-built print function to print the variable\n",
    "print(z)"
   ]
  },
  {
   "cell_type": "code",
   "execution_count": 17,
   "metadata": {
    "id": "uQWOqYjdJbPe",
    "outputId": "0b7a9c73-0cd9-4eda-d927-e0cfb6ecb8b0"
   },
   "outputs": [
    {
     "name": "stdout",
     "output_type": "stream",
     "text": [
      "0x4fc77e0\n"
     ]
    }
   ],
   "source": [
    "# Printing the memory address the variable z occupies\n",
    "print(hex(id(z)))"
   ]
  },
  {
   "cell_type": "code",
   "execution_count": 18,
   "metadata": {
    "colab": {
     "base_uri": "https://localhost:8080/",
     "height": 34
    },
    "id": "RajV71HZJbPh",
    "outputId": "cdd47eda-5299-44e9-cfb0-aa20c578a060"
   },
   "outputs": [
    {
     "data": {
      "text/plain": [
       "float"
      ]
     },
     "execution_count": 18,
     "metadata": {},
     "output_type": "execute_result"
    }
   ],
   "source": [
    " # Find out the data type of variable z\n",
    "type(y) "
   ]
  },
  {
   "cell_type": "code",
   "execution_count": 19,
   "metadata": {
    "colab": {
     "base_uri": "https://localhost:8080/",
     "height": 50
    },
    "id": "WThvonSGJbPk",
    "outputId": "f358dd97-a70c-4b71-fb64-6ac6b0ee1c4e"
   },
   "outputs": [
    {
     "name": "stdout",
     "output_type": "stream",
     "text": [
      "25.6\n"
     ]
    },
    {
     "data": {
      "text/plain": [
       "float"
      ]
     },
     "execution_count": 19,
     "metadata": {},
     "output_type": "execute_result"
    }
   ],
   "source": [
    "# Multiplication\n",
    "z = x*y\n",
    "\n",
    "print(z)  # Print the variable z\n",
    "type(z)   # Get the data type of variable z"
   ]
  },
  {
   "cell_type": "code",
   "execution_count": 20,
   "metadata": {
    "colab": {
     "base_uri": "https://localhost:8080/",
     "height": 50
    },
    "id": "Jz0GA8TtJbPn",
    "outputId": "0d9268a2-1c9b-4a7b-d599-9328790cd4b9"
   },
   "outputs": [
    {
     "name": "stdout",
     "output_type": "stream",
     "text": [
      "0.625\n"
     ]
    },
    {
     "data": {
      "text/plain": [
       "float"
      ]
     },
     "execution_count": 20,
     "metadata": {},
     "output_type": "execute_result"
    }
   ],
   "source": [
    "# Division\n",
    "z = x/y\n",
    "\n",
    "print(z) # Print the variable z\n",
    "type(z)  # Get the data type of variable z"
   ]
  },
  {
   "cell_type": "code",
   "execution_count": 21,
   "metadata": {
    "colab": {
     "base_uri": "https://localhost:8080/",
     "height": 34
    },
    "id": "UFPxHaByJbPp",
    "outputId": "09338790-fdfd-4288-f451-ec12deb8c43d"
   },
   "outputs": [
    {
     "name": "stdout",
     "output_type": "stream",
     "text": [
      "0.0\n"
     ]
    }
   ],
   "source": [
    "# Floor division\n",
    "z= x//y  #  Remember x=5, y=6.4\n",
    "print(z)"
   ]
  },
  {
   "cell_type": "markdown",
   "metadata": {
    "id": "tRtsrmQoJbPt"
   },
   "source": [
    "## Note:Shouldn't it be 0.75??\n",
    "* The reason we get this result is because we are using \"*floor*\" division. The <code>//</code> operator (two forward slashes) is the mathematical equivalent of doing [0.75] which returns the greatest integer less than or equal to 0.75"
   ]
  },
  {
   "cell_type": "code",
   "execution_count": 22,
   "metadata": {
    "colab": {
     "base_uri": "https://localhost:8080/",
     "height": 34
    },
    "id": "mkmUH8cuJbPu",
    "outputId": "c642fa75-6858-4f8b-8441-f730e8cffd4e"
   },
   "outputs": [
    {
     "name": "stdout",
     "output_type": "stream",
     "text": [
      "2\n"
     ]
    }
   ],
   "source": [
    "# Modulo operator\n",
    "y=5\n",
    "x=3\n",
    "\n",
    "z = y%x       # Modulus is denoted by % sign\n",
    "print(z)"
   ]
  },
  {
   "cell_type": "code",
   "execution_count": 23,
   "metadata": {
    "colab": {
     "base_uri": "https://localhost:8080/",
     "height": 34
    },
    "id": "-gOV0xtCJbPz",
    "outputId": "1f24c1f2-5780-44c7-a25f-d5fd00359728"
   },
   "outputs": [
    {
     "name": "stdout",
     "output_type": "stream",
     "text": [
      "243\n"
     ]
    }
   ],
   "source": [
    "# Using powers and exponents\n",
    "\n",
    "z = x**y    # We did not even need to store it in another variable nor use print command\n",
    "print(z)"
   ]
  },
  {
   "cell_type": "code",
   "execution_count": 25,
   "metadata": {
    "colab": {
     "base_uri": "https://localhost:8080/",
     "height": 50
    },
    "id": "yjojlOq0JbP1",
    "outputId": "f770430b-ccc9-4985-e0d8-616488843c6e"
   },
   "outputs": [
    {
     "name": "stdout",
     "output_type": "stream",
     "text": [
      "7.6\n"
     ]
    },
    {
     "data": {
      "text/plain": [
       "float"
      ]
     },
     "execution_count": 25,
     "metadata": {},
     "output_type": "execute_result"
    }
   ],
   "source": [
    "# BODMAS rule\n",
    "some_operation =(x+y)/y + (y-x)*x     \n",
    "\n",
    "print(some_operation)\n",
    "type(some_operation)"
   ]
  },
  {
   "cell_type": "code",
   "execution_count": 26,
   "metadata": {
    "colab": {
     "base_uri": "https://localhost:8080/",
     "height": 34
    },
    "id": "6GTBsnuoJbP4",
    "outputId": "a9a6dcc5-0ee9-4c8f-af21-084c17f443d9"
   },
   "outputs": [
    {
     "name": "stdout",
     "output_type": "stream",
     "text": [
      "6.22e+23\n"
     ]
    }
   ],
   "source": [
    "# How to Store large integer numbers\n",
    "avogadro = 6.22E23\n",
    "\n",
    "print(avogadro)"
   ]
  },
  {
   "cell_type": "markdown",
   "metadata": {
    "id": "rxeNuG-pJbP6"
   },
   "source": [
    "##  Rules for naming a variable in Python\n",
    "\n",
    "* Variables names must start with a letter or an underscore like _ product , product_\n",
    "\n",
    "\n",
    "* The remainder of your variable name may consist of letters, numbers and underscores\n",
    "\n",
    "\n",
    "* spacy1, pyThon,machine_learning are some valid variable names\n",
    "\n",
    "\n",
    "* Names are case sensitive.\n",
    "\n",
    "\n",
    "* case_sensitive, CASE_SENSITIVE, and Case_Sensitive are each a different variable.\n"
   ]
  },
  {
   "cell_type": "code",
   "execution_count": 27,
   "metadata": {
    "colab": {
     "base_uri": "https://localhost:8080/",
     "height": 128
    },
    "id": "40Ov9gtSJbP7",
    "outputId": "e0c87042-7fe4-4955-d7d9-b2e044e91e28"
   },
   "outputs": [
    {
     "ename": "SyntaxError",
     "evalue": "invalid syntax (2480654070.py, line 1)",
     "output_type": "error",
     "traceback": [
      "\u001b[1;36m  Input \u001b[1;32mIn [27]\u001b[1;36m\u001b[0m\n\u001b[1;33m    1oNone = 4\u001b[0m\n\u001b[1;37m     ^\u001b[0m\n\u001b[1;31mSyntaxError\u001b[0m\u001b[1;31m:\u001b[0m invalid syntax\n"
     ]
    }
   ],
   "source": [
    "1oNone = 4"
   ]
  },
  {
   "cell_type": "code",
   "execution_count": 28,
   "metadata": {
    "id": "OxnashdWfE2K"
   },
   "outputs": [],
   "source": [
    "onone_abc_1 = 5"
   ]
  },
  {
   "cell_type": "code",
   "execution_count": 29,
   "metadata": {
    "id": "68UBfOefgmGr"
   },
   "outputs": [],
   "source": [
    "list = 5"
   ]
  },
  {
   "cell_type": "code",
   "execution_count": 32,
   "metadata": {
    "colab": {
     "base_uri": "https://localhost:8080/",
     "height": 34
    },
    "id": "0DAMNZTLgp10",
    "outputId": "af43a98e-8414-41cb-8fd1-65273870923a"
   },
   "outputs": [
    {
     "name": "stdout",
     "output_type": "stream",
     "text": [
      "5\n",
      "5\n"
     ]
    }
   ],
   "source": [
    "print(list)\n",
    "print(onone_abc_1)"
   ]
  },
  {
   "cell_type": "markdown",
   "metadata": {
    "id": "3IqwZAzbJbP-"
   },
   "source": [
    "* Names cannot begin with a number. Python will throw an error when you try to do so \n",
    "\n",
    "\n",
    "* Names can not contain spaces, use _ instead\n",
    "\n",
    "\n",
    "* Names can not contain any of these symbols:\n",
    "\n",
    "      :'\",<>/?|\\!@#%^&*~-+\n",
    "      \n",
    "      \n",
    "* It is considered best practice that names are lowercase with underscores\n",
    "\n",
    "\n"
   ]
  },
  {
   "cell_type": "markdown",
   "metadata": {
    "id": "1y0i15DhJbP-"
   },
   "source": [
    "# <u>Boolean Variables </u>\n",
    "\n",
    "* A Boolean variable only takes two values either True or False. It is used for comparisons"
   ]
  },
  {
   "cell_type": "markdown",
   "metadata": {
    "id": "35lrqYk2JbP-"
   },
   "source": [
    "## Comparison Operators \n",
    "\n",
    "* These operators will allow us to compare variables and output a Boolean value (True or False). \n",
    "\n",
    "\n",
    "* If you have any sort of background in Math, these operators should be very straight forward.\n",
    "\n",
    "\n",
    "* First we'll present a table of the comparison operators and then work through some examples:\n",
    "\n",
    "\n",
    "* In the table below, a=3 and b=4.\n",
    "\n",
    "<table class=\"table table-bordered\">\n",
    "<tr>\n",
    "<th style=\"width:10%\">Operator</th><th style=\"width:45%\">Description</th><th>Example</th>\n",
    "</tr>\n",
    "<tr>\n",
    "<td>==</td>\n",
    "<td>If the values of two operands are equal, then the condition becomes true.</td>\n",
    "<td> (a == b) is not true.</td>\n",
    "</tr>\n",
    "<tr>\n",
    "<td>!=</td>\n",
    "<td>If values of two operands are not equal, then condition becomes true.</td>\n",
    "<td>(a != b) is true</td>\n",
    "</tr>\n",
    "<tr>\n",
    "<td>&gt;</td>\n",
    "<td>If the value of left operand is greater than the value of right operand, then condition becomes true.</td>\n",
    "<td> (a &gt; b) is not true.</td>\n",
    "</tr>\n",
    "<tr>\n",
    "<td>&lt;</td>\n",
    "<td>If the value of left operand is less than the value of right operand, then condition becomes true.</td>\n",
    "<td> (a &lt; b) is true.</td>\n",
    "</tr>\n",
    "<tr>\n",
    "<td>&gt;=</td>\n",
    "<td>If the value of left operand is greater than or equal to the value of right operand, then condition becomes true.</td>\n",
    "<td> (a &gt;= b) is not true. </td>\n",
    "</tr>\n",
    "<tr>\n",
    "<td>&lt;=</td>\n",
    "<td>If the value of left operand is less than or equal to the value of right operand, then condition becomes true.</td>\n",
    "<td> (a &lt;= b) is true. </td>\n",
    "</tr>\n",
    "</table>"
   ]
  },
  {
   "cell_type": "markdown",
   "metadata": {
    "id": "k5qrpfOfJbP_"
   },
   "source": [
    "* Python  comes with Booleans (with predefined True and False displays that are basically just the integers 1 and 0). It also has a placeholder object called None. Let's walk through a few quick examples of Booleans (we will dive deeper into them later in this course)."
   ]
  },
  {
   "cell_type": "code",
   "execution_count": 33,
   "metadata": {
    "colab": {
     "base_uri": "https://localhost:8080/",
     "height": 34
    },
    "id": "4HGbSLf_JbP_",
    "outputId": "7a89dfde-8359-4822-aa0d-0b58de94a3fb"
   },
   "outputs": [
    {
     "data": {
      "text/plain": [
       "bool"
      ]
     },
     "execution_count": 33,
     "metadata": {},
     "output_type": "execute_result"
    }
   ],
   "source": [
    "# Set object to be a boolean\n",
    "boolean_variable = False\n",
    "type(boolean_variable)"
   ]
  },
  {
   "cell_type": "code",
   "execution_count": 34,
   "metadata": {
    "colab": {
     "base_uri": "https://localhost:8080/",
     "height": 34
    },
    "id": "KbXp_CYVJbQC",
    "outputId": "614846fb-8f03-4232-ca17-eaabfed9bd0c"
   },
   "outputs": [
    {
     "data": {
      "text/plain": [
       "False"
      ]
     },
     "execution_count": 34,
     "metadata": {},
     "output_type": "execute_result"
    }
   ],
   "source": [
    "#Show\n",
    "boolean_variable"
   ]
  },
  {
   "cell_type": "markdown",
   "metadata": {
    "id": "XTNlwY9rJbQG"
   },
   "source": [
    "### Equal"
   ]
  },
  {
   "cell_type": "code",
   "execution_count": 35,
   "metadata": {
    "colab": {
     "base_uri": "https://localhost:8080/",
     "height": 34
    },
    "id": "B2HBAmBxJbQG",
    "outputId": "12512d25-266b-4d39-9d75-119095485443"
   },
   "outputs": [
    {
     "data": {
      "text/plain": [
       "False"
      ]
     },
     "execution_count": 35,
     "metadata": {},
     "output_type": "execute_result"
    }
   ],
   "source": [
    "2 == 3"
   ]
  },
  {
   "cell_type": "code",
   "execution_count": 36,
   "metadata": {
    "id": "St2N7ToUJbQI",
    "outputId": "79f5b573-f7e7-44b4-bf37-eb4fa25b2449"
   },
   "outputs": [
    {
     "data": {
      "text/plain": [
       "False"
      ]
     },
     "execution_count": 36,
     "metadata": {},
     "output_type": "execute_result"
    }
   ],
   "source": [
    "2==0"
   ]
  },
  {
   "cell_type": "markdown",
   "metadata": {
    "id": "rffDn2hzJbQM"
   },
   "source": [
    "* <u> Note that <code>==</code> is a comparison operator, while <code>=</code> is an assignment operator. </u>"
   ]
  },
  {
   "cell_type": "markdown",
   "metadata": {
    "id": "zXobe57HJbQM"
   },
   "source": [
    "### Not equal"
   ]
  },
  {
   "cell_type": "code",
   "execution_count": 37,
   "metadata": {
    "colab": {
     "base_uri": "https://localhost:8080/",
     "height": 34
    },
    "id": "-ITcsIujJbQM",
    "outputId": "0df844ca-2da7-4ec1-8f03-6a3cab84719c"
   },
   "outputs": [
    {
     "data": {
      "text/plain": [
       "True"
      ]
     },
     "execution_count": 37,
     "metadata": {},
     "output_type": "execute_result"
    }
   ],
   "source": [
    "2!=0"
   ]
  },
  {
   "cell_type": "code",
   "execution_count": null,
   "metadata": {
    "colab": {
     "base_uri": "https://localhost:8080/",
     "height": 34
    },
    "id": "MeLL5zC4JbQQ",
    "outputId": "55a8bf34-c3d8-4e19-d05a-9ead63c878a4"
   },
   "outputs": [
    {
     "data": {
      "text/plain": [
       "False"
      ]
     },
     "execution_count": 66,
     "metadata": {
      "tags": []
     },
     "output_type": "execute_result"
    }
   ],
   "source": [
    "2!=2"
   ]
  },
  {
   "cell_type": "markdown",
   "metadata": {
    "id": "JCs_Qrt-JbQS"
   },
   "source": [
    "### Greater than"
   ]
  },
  {
   "cell_type": "code",
   "execution_count": 38,
   "metadata": {
    "colab": {
     "base_uri": "https://localhost:8080/",
     "height": 34
    },
    "id": "JVbaxgIDJbQS",
    "outputId": "383b0e59-8697-43cb-adf0-94233e502c80",
    "scrolled": true
   },
   "outputs": [
    {
     "data": {
      "text/plain": [
       "True"
      ]
     },
     "execution_count": 38,
     "metadata": {},
     "output_type": "execute_result"
    }
   ],
   "source": [
    "a=3\n",
    "b=2\n",
    "a> b"
   ]
  },
  {
   "cell_type": "code",
   "execution_count": 39,
   "metadata": {
    "colab": {
     "base_uri": "https://localhost:8080/",
     "height": 34
    },
    "id": "PZ1zdvTTJbQU",
    "outputId": "b64d6e7e-58ef-4d0a-b927-3b7857dc8f41"
   },
   "outputs": [
    {
     "data": {
      "text/plain": [
       "True"
      ]
     },
     "execution_count": 39,
     "metadata": {},
     "output_type": "execute_result"
    }
   ],
   "source": [
    "a == 3"
   ]
  },
  {
   "cell_type": "code",
   "execution_count": 40,
   "metadata": {
    "colab": {
     "base_uri": "https://localhost:8080/",
     "height": 34
    },
    "id": "C6ChRkkxJbQW",
    "outputId": "dcea2dcc-3767-4644-b9e9-873a24fe1502"
   },
   "outputs": [
    {
     "data": {
      "text/plain": [
       "False"
      ]
     },
     "execution_count": 40,
     "metadata": {},
     "output_type": "execute_result"
    }
   ],
   "source": [
    "b > 4"
   ]
  },
  {
   "cell_type": "markdown",
   "metadata": {
    "id": "HXhCSJvBJbQY"
   },
   "source": [
    "### Less than"
   ]
  },
  {
   "cell_type": "code",
   "execution_count": 41,
   "metadata": {
    "colab": {
     "base_uri": "https://localhost:8080/",
     "height": 34
    },
    "id": "AffaxmdTJbQY",
    "outputId": "043b79ef-32ad-4b16-edea-d8a14a1d2d0f"
   },
   "outputs": [
    {
     "data": {
      "text/plain": [
       "True"
      ]
     },
     "execution_count": 41,
     "metadata": {},
     "output_type": "execute_result"
    }
   ],
   "source": [
    "10 < 45"
   ]
  },
  {
   "cell_type": "code",
   "execution_count": 42,
   "metadata": {
    "colab": {
     "base_uri": "https://localhost:8080/",
     "height": 34
    },
    "id": "yX1roPJCJbQa",
    "outputId": "48be0f03-4c73-431c-ff09-42b18d9ce5fd"
   },
   "outputs": [
    {
     "data": {
      "text/plain": [
       "False"
      ]
     },
     "execution_count": 42,
     "metadata": {},
     "output_type": "execute_result"
    }
   ],
   "source": [
    "4 < 2"
   ]
  },
  {
   "cell_type": "markdown",
   "metadata": {
    "id": "HHQGVtfyJbQe"
   },
   "source": [
    "### Greater than or equal to"
   ]
  },
  {
   "cell_type": "code",
   "execution_count": 43,
   "metadata": {
    "colab": {
     "base_uri": "https://localhost:8080/",
     "height": 34
    },
    "id": "_Qw-yrpRJbQe",
    "outputId": "a2d12230-f2a3-4d9b-fbdb-962a02a05d7b"
   },
   "outputs": [
    {
     "data": {
      "text/plain": [
       "True"
      ]
     },
     "execution_count": 43,
     "metadata": {},
     "output_type": "execute_result"
    }
   ],
   "source": [
    "3 >=2"
   ]
  },
  {
   "cell_type": "code",
   "execution_count": 44,
   "metadata": {
    "colab": {
     "base_uri": "https://localhost:8080/",
     "height": 34
    },
    "id": "Cj3UpbKTJbQh",
    "outputId": "6c29f433-9153-44c0-c438-55c76ea6ce3a"
   },
   "outputs": [
    {
     "data": {
      "text/plain": [
       "True"
      ]
     },
     "execution_count": 44,
     "metadata": {},
     "output_type": "execute_result"
    }
   ],
   "source": [
    "4 >= 4"
   ]
  },
  {
   "cell_type": "markdown",
   "metadata": {
    "id": "9A0hrb1EJbQk"
   },
   "source": [
    "### Less than or equal to"
   ]
  },
  {
   "cell_type": "code",
   "execution_count": 45,
   "metadata": {
    "colab": {
     "base_uri": "https://localhost:8080/",
     "height": 34
    },
    "id": "CCg2vqNOJbQl",
    "outputId": "61c13606-22c9-45f0-ff72-ab1d7e44201d"
   },
   "outputs": [
    {
     "data": {
      "text/plain": [
       "False"
      ]
     },
     "execution_count": 45,
     "metadata": {},
     "output_type": "execute_result"
    }
   ],
   "source": [
    "3 <= 0"
   ]
  },
  {
   "cell_type": "code",
   "execution_count": 46,
   "metadata": {
    "colab": {
     "base_uri": "https://localhost:8080/",
     "height": 34
    },
    "id": "s9BkZBJDJbQm",
    "outputId": "d1eb734b-81a4-4c53-ff6b-66baef17283e"
   },
   "outputs": [
    {
     "data": {
      "text/plain": [
       "True"
      ]
     },
     "execution_count": 46,
     "metadata": {},
     "output_type": "execute_result"
    }
   ],
   "source": [
    "1 <= 2"
   ]
  },
  {
   "cell_type": "code",
   "execution_count": 47,
   "metadata": {
    "id": "TQqmyhbIk9Ol"
   },
   "outputs": [],
   "source": [
    "a =3+4j"
   ]
  },
  {
   "cell_type": "code",
   "execution_count": 48,
   "metadata": {},
   "outputs": [
    {
     "name": "stdout",
     "output_type": "stream",
     "text": [
      "(3+4j)\n"
     ]
    }
   ],
   "source": [
    "print(a)"
   ]
  },
  {
   "cell_type": "code",
   "execution_count": 50,
   "metadata": {},
   "outputs": [
    {
     "data": {
      "text/plain": [
       "complex"
      ]
     },
     "execution_count": 50,
     "metadata": {},
     "output_type": "execute_result"
    }
   ],
   "source": [
    "type(a)"
   ]
  },
  {
   "cell_type": "code",
   "execution_count": 51,
   "metadata": {},
   "outputs": [
    {
     "data": {
      "text/plain": [
       "['__abs__',\n",
       " '__add__',\n",
       " '__bool__',\n",
       " '__class__',\n",
       " '__delattr__',\n",
       " '__dir__',\n",
       " '__divmod__',\n",
       " '__doc__',\n",
       " '__eq__',\n",
       " '__float__',\n",
       " '__floordiv__',\n",
       " '__format__',\n",
       " '__ge__',\n",
       " '__getattribute__',\n",
       " '__getnewargs__',\n",
       " '__gt__',\n",
       " '__hash__',\n",
       " '__init__',\n",
       " '__init_subclass__',\n",
       " '__int__',\n",
       " '__le__',\n",
       " '__lt__',\n",
       " '__mod__',\n",
       " '__mul__',\n",
       " '__ne__',\n",
       " '__neg__',\n",
       " '__new__',\n",
       " '__pos__',\n",
       " '__pow__',\n",
       " '__radd__',\n",
       " '__rdivmod__',\n",
       " '__reduce__',\n",
       " '__reduce_ex__',\n",
       " '__repr__',\n",
       " '__rfloordiv__',\n",
       " '__rmod__',\n",
       " '__rmul__',\n",
       " '__rpow__',\n",
       " '__rsub__',\n",
       " '__rtruediv__',\n",
       " '__setattr__',\n",
       " '__sizeof__',\n",
       " '__str__',\n",
       " '__sub__',\n",
       " '__subclasshook__',\n",
       " '__truediv__',\n",
       " 'conjugate',\n",
       " 'imag',\n",
       " 'real']"
      ]
     },
     "execution_count": 51,
     "metadata": {},
     "output_type": "execute_result"
    }
   ],
   "source": [
    "dir(a)"
   ]
  },
  {
   "cell_type": "code",
   "execution_count": 53,
   "metadata": {},
   "outputs": [
    {
     "name": "stdout",
     "output_type": "stream",
     "text": [
      "3.0\n"
     ]
    }
   ],
   "source": [
    "print(a.real)"
   ]
  },
  {
   "cell_type": "code",
   "execution_count": 54,
   "metadata": {},
   "outputs": [
    {
     "name": "stdout",
     "output_type": "stream",
     "text": [
      "4.0\n"
     ]
    }
   ],
   "source": [
    "print(a.imag)"
   ]
  },
  {
   "cell_type": "code",
   "execution_count": 55,
   "metadata": {},
   "outputs": [
    {
     "data": {
      "text/plain": [
       "(-7+24j)"
      ]
     },
     "execution_count": 55,
     "metadata": {},
     "output_type": "execute_result"
    }
   ],
   "source": [
    "a**2"
   ]
  },
  {
   "cell_type": "code",
   "execution_count": 29,
   "metadata": {},
   "outputs": [
    {
     "data": {
      "text/plain": [
       "'😀'"
      ]
     },
     "execution_count": 29,
     "metadata": {},
     "output_type": "execute_result"
    }
   ],
   "source": [
    "\"\\U0001F600\""
   ]
  },
  {
   "cell_type": "code",
   "execution_count": null,
   "metadata": {},
   "outputs": [],
   "source": []
  },
  {
   "cell_type": "code",
   "execution_count": null,
   "metadata": {},
   "outputs": [],
   "source": []
  }
 ],
 "metadata": {
  "colab": {
   "collapsed_sections": [
    "XTNlwY9rJbQG",
    "zXobe57HJbQM",
    "JCs_Qrt-JbQS",
    "HXhCSJvBJbQY",
    "HHQGVtfyJbQe",
    "9A0hrb1EJbQk"
   ],
   "provenance": []
  },
  "kernelspec": {
   "display_name": "Python 3 (ipykernel)",
   "language": "python",
   "name": "python3"
  },
  "language_info": {
   "codemirror_mode": {
    "name": "ipython",
    "version": 3
   },
   "file_extension": ".py",
   "mimetype": "text/x-python",
   "name": "python",
   "nbconvert_exporter": "python",
   "pygments_lexer": "ipython3",
   "version": "3.10.9"
  }
 },
 "nbformat": 4,
 "nbformat_minor": 1
}
